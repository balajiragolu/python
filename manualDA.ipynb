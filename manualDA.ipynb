{
 "cells": [
  {
   "cell_type": "code",
   "execution_count": 4,
   "id": "64706efe",
   "metadata": {},
   "outputs": [],
   "source": [
    "import pandas as pd"
   ]
  },
  {
   "cell_type": "code",
   "execution_count": 5,
   "id": "0cd65cf0",
   "metadata": {
    "collapsed": true
   },
   "outputs": [
    {
     "name": "stdout",
     "output_type": "stream",
     "text": [
      "Requirement already satisfied: pandas in c:\\users\\saragolu\\anaconda3\\lib\\site-packages (1.2.4)\n",
      "Requirement already satisfied: numpy>=1.16.5 in c:\\users\\saragolu\\anaconda3\\lib\\site-packages (from pandas) (1.20.1)\n",
      "Requirement already satisfied: pytz>=2017.3 in c:\\users\\saragolu\\anaconda3\\lib\\site-packages (from pandas) (2021.1)\n",
      "Requirement already satisfied: python-dateutil>=2.7.3 in c:\\users\\saragolu\\anaconda3\\lib\\site-packages (from pandas) (2.8.1)\n",
      "Requirement already satisfied: six>=1.5 in c:\\users\\saragolu\\anaconda3\\lib\\site-packages (from python-dateutil>=2.7.3->pandas) (1.15.0)\n"
     ]
    }
   ],
   "source": [
    "!pip install pandas\n",
    "\n",
    "!pip freeze\n",
    "\n",
    "train=pd.read_csv(\"train.csv\")\n",
    "\n",
    "train\n",
    "\n",
    "train.info()\n",
    "\n",
    "train['categories'].value_counts()\n",
    "\n",
    "train['categories'].value_counts()[0:10]\n",
    "\n",
    "train['categories']==\"Clothing, Shoes & Accessories,Men's Shoes,Athletic\"\n",
    "\n",
    "intrestTrain=train[train['categories']==\"Clothing, Shoes & Accessories,Men's Shoes,Athletic\"]\n",
    "\n",
    "intrestTrain.info()\n",
    "\n",
    "intrestTrain.iloc[0:400,[18,20,21]]\n",
    "\n",
    "intrestTrain.iloc[0:400,[18,20,21]][\"prices_amountmax\"].value_counts()\n",
    "\n",
    "tr2=intrestTrain.iloc[0:400,[18,20,21]]\n",
    "\n",
    "\n",
    "\n",
    "tr2['prices_amountmax']=tr2['prices_amountmax'].astype(float)\n",
    "\n",
    "tr2['prices_amountmin']=tr2['prices_amountmin'].astype(float)\n",
    "\n",
    "tr2['prices_amountmin'].describe()\n",
    "\n",
    "tr2['prices_amountmax'].value_counts().sort_index(ascending=False)"
   ]
  },
  {
   "cell_type": "code",
   "execution_count": 32,
   "id": "32a42089",
   "metadata": {
    "collapsed": true
   },
   "outputs": [
    {
     "data": {
      "text/plain": [
       "19296     44.00\n",
       "19080     99.94\n",
       "19079     79.95\n",
       "19036     51.99\n",
       "19011     68.99\n",
       "18957    180.00\n",
       "18952    140.25\n",
       "18934     84.99\n",
       "18892     59.75\n",
       "18891     53.77\n",
       "Name: prices_amountmax, dtype: float64"
      ]
     },
     "execution_count": 32,
     "metadata": {},
     "output_type": "execute_result"
    }
   ],
   "source": [
    "tr2['prices_amountmax'].sort_index(ascending=False)[0:10]"
   ]
  },
  {
   "cell_type": "code",
   "execution_count": 30,
   "id": "028ddad9",
   "metadata": {
    "collapsed": true
   },
   "outputs": [
    {
     "data": {
      "text/plain": [
       "60       False\n",
       "113      False\n",
       "128      False\n",
       "184      False\n",
       "202      False\n",
       "         ...  \n",
       "19011    False\n",
       "19036    False\n",
       "19079    False\n",
       "19080    False\n",
       "19296    False\n",
       "Name: prices_amountmin, Length: 400, dtype: bool"
      ]
     },
     "execution_count": 30,
     "metadata": {},
     "output_type": "execute_result"
    }
   ],
   "source": [
    "tr2['prices_amountmin']>=299.99"
   ]
  },
  {
   "cell_type": "code",
   "execution_count": 34,
   "id": "676d54c6",
   "metadata": {
    "collapsed": true
   },
   "outputs": [
    {
     "data": {
      "text/html": [
       "<div>\n",
       "<style scoped>\n",
       "    .dataframe tbody tr th:only-of-type {\n",
       "        vertical-align: middle;\n",
       "    }\n",
       "\n",
       "    .dataframe tbody tr th {\n",
       "        vertical-align: top;\n",
       "    }\n",
       "\n",
       "    .dataframe thead th {\n",
       "        text-align: right;\n",
       "    }\n",
       "</style>\n",
       "<table border=\"1\" class=\"dataframe\">\n",
       "  <thead>\n",
       "    <tr style=\"text-align: right;\">\n",
       "      <th></th>\n",
       "      <th>merchants</th>\n",
       "      <th>prices_amountmin</th>\n",
       "      <th>prices_amountmax</th>\n",
       "    </tr>\n",
       "  </thead>\n",
       "  <tbody>\n",
       "    <tr>\n",
       "      <th>1304</th>\n",
       "      <td>[{\"dateSeen\":[\"2016-03-22T00:00:00Z\"],\"name\":\"...</td>\n",
       "      <td>399.50</td>\n",
       "      <td>399.50</td>\n",
       "    </tr>\n",
       "    <tr>\n",
       "      <th>1452</th>\n",
       "      <td>[{\"dateSeen\":[\"2016-03-27T00:00:00Z\"],\"name\":\"...</td>\n",
       "      <td>2799.95</td>\n",
       "      <td>2799.95</td>\n",
       "    </tr>\n",
       "    <tr>\n",
       "      <th>4228</th>\n",
       "      <td>[{\"dateSeen\":[\"2016-03-09T00:00:00Z\"],\"name\":\"...</td>\n",
       "      <td>299.99</td>\n",
       "      <td>299.99</td>\n",
       "    </tr>\n",
       "    <tr>\n",
       "      <th>4427</th>\n",
       "      <td>[{\"dateSeen\":[\"2016-03-11T00:00:00Z\"],\"name\":\"...</td>\n",
       "      <td>1250.00</td>\n",
       "      <td>1250.00</td>\n",
       "    </tr>\n",
       "    <tr>\n",
       "      <th>4894</th>\n",
       "      <td>[{\"dateSeen\":[\"2016-04-18T00:00:00Z\"],\"name\":\"...</td>\n",
       "      <td>449.99</td>\n",
       "      <td>449.99</td>\n",
       "    </tr>\n",
       "    <tr>\n",
       "      <th>4895</th>\n",
       "      <td>[{\"dateSeen\":[\"2016-04-18T00:00:00Z\"],\"name\":\"...</td>\n",
       "      <td>306.00</td>\n",
       "      <td>306.00</td>\n",
       "    </tr>\n",
       "    <tr>\n",
       "      <th>10452</th>\n",
       "      <td>[{\"dateSeen\":[\"2016-03-22T00:00:00Z\"],\"name\":\"...</td>\n",
       "      <td>445.00</td>\n",
       "      <td>445.00</td>\n",
       "    </tr>\n",
       "    <tr>\n",
       "      <th>11249</th>\n",
       "      <td>[{\"dateSeen\":[\"2016-04-11T00:00:00Z\"],\"name\":\"...</td>\n",
       "      <td>1225.00</td>\n",
       "      <td>1225.00</td>\n",
       "    </tr>\n",
       "    <tr>\n",
       "      <th>12444</th>\n",
       "      <td>[{\"dateSeen\":[\"2016-03-27T00:00:00Z\"],\"name\":\"...</td>\n",
       "      <td>999.00</td>\n",
       "      <td>999.00</td>\n",
       "    </tr>\n",
       "    <tr>\n",
       "      <th>16561</th>\n",
       "      <td>[{\"dateSeen\":[\"2016-04-11T00:00:00Z\"],\"name\":\"...</td>\n",
       "      <td>330.00</td>\n",
       "      <td>330.00</td>\n",
       "    </tr>\n",
       "  </tbody>\n",
       "</table>\n",
       "</div>"
      ],
      "text/plain": [
       "                                               merchants  prices_amountmin  \\\n",
       "1304   [{\"dateSeen\":[\"2016-03-22T00:00:00Z\"],\"name\":\"...            399.50   \n",
       "1452   [{\"dateSeen\":[\"2016-03-27T00:00:00Z\"],\"name\":\"...           2799.95   \n",
       "4228   [{\"dateSeen\":[\"2016-03-09T00:00:00Z\"],\"name\":\"...            299.99   \n",
       "4427   [{\"dateSeen\":[\"2016-03-11T00:00:00Z\"],\"name\":\"...           1250.00   \n",
       "4894   [{\"dateSeen\":[\"2016-04-18T00:00:00Z\"],\"name\":\"...            449.99   \n",
       "4895   [{\"dateSeen\":[\"2016-04-18T00:00:00Z\"],\"name\":\"...            306.00   \n",
       "10452  [{\"dateSeen\":[\"2016-03-22T00:00:00Z\"],\"name\":\"...            445.00   \n",
       "11249  [{\"dateSeen\":[\"2016-04-11T00:00:00Z\"],\"name\":\"...           1225.00   \n",
       "12444  [{\"dateSeen\":[\"2016-03-27T00:00:00Z\"],\"name\":\"...            999.00   \n",
       "16561  [{\"dateSeen\":[\"2016-04-11T00:00:00Z\"],\"name\":\"...            330.00   \n",
       "\n",
       "       prices_amountmax  \n",
       "1304             399.50  \n",
       "1452            2799.95  \n",
       "4228             299.99  \n",
       "4427            1250.00  \n",
       "4894             449.99  \n",
       "4895             306.00  \n",
       "10452            445.00  \n",
       "11249           1225.00  \n",
       "12444            999.00  \n",
       "16561            330.00  "
      ]
     },
     "execution_count": 34,
     "metadata": {},
     "output_type": "execute_result"
    }
   ],
   "source": [
    "tr2[tr2['prices_amountmax']>=299.99]"
   ]
  },
  {
   "cell_type": "code",
   "execution_count": 35,
   "id": "3e8c9926",
   "metadata": {
    "collapsed": true
   },
   "outputs": [
    {
     "name": "stdout",
     "output_type": "stream",
     "text": [
      "Collecting logging\n",
      "  Downloading logging-0.4.9.6.tar.gz (96 kB)\n",
      "Building wheels for collected packages: logging\n",
      "  Building wheel for logging (setup.py): started\n",
      "  Building wheel for logging (setup.py): finished with status 'error'\n",
      "  Running setup.py clean for logging\n",
      "Failed to build logging\n",
      "Installing collected packages: logging\n",
      "    Running setup.py install for logging: started\n",
      "    Running setup.py install for logging: finished with status 'error'\n"
     ]
    },
    {
     "name": "stderr",
     "output_type": "stream",
     "text": [
      "  ERROR: Command errored out with exit status 1:\n",
      "   command: 'C:\\Users\\saragolu\\Anaconda3\\python.exe' -u -c 'import sys, setuptools, tokenize; sys.argv[0] = '\"'\"'C:\\\\Users\\\\saragolu\\\\AppData\\\\Local\\\\Temp\\\\pip-install-bj1qtjhl\\\\logging_81afbdc7e0e54001b53fff4a346f7524\\\\setup.py'\"'\"'; __file__='\"'\"'C:\\\\Users\\\\saragolu\\\\AppData\\\\Local\\\\Temp\\\\pip-install-bj1qtjhl\\\\logging_81afbdc7e0e54001b53fff4a346f7524\\\\setup.py'\"'\"';f=getattr(tokenize, '\"'\"'open'\"'\"', open)(__file__);code=f.read().replace('\"'\"'\\r\\n'\"'\"', '\"'\"'\\n'\"'\"');f.close();exec(compile(code, __file__, '\"'\"'exec'\"'\"'))' bdist_wheel -d 'C:\\Users\\saragolu\\AppData\\Local\\Temp\\pip-wheel-y9he788t'\n",
      "       cwd: C:\\Users\\saragolu\\AppData\\Local\\Temp\\pip-install-bj1qtjhl\\logging_81afbdc7e0e54001b53fff4a346f7524\\\n",
      "  Complete output (26 lines):\n",
      "  Traceback (most recent call last):\n",
      "    File \"<string>\", line 1, in <module>\n",
      "    File \"C:\\Users\\saragolu\\AppData\\Local\\Temp\\pip-install-bj1qtjhl\\logging_81afbdc7e0e54001b53fff4a346f7524\\setup.py\", line 3, in <module>\n",
      "      setup(name = \"logging\",\n",
      "    File \"C:\\Users\\saragolu\\Anaconda3\\lib\\distutils\\core.py\", line 134, in setup\n",
      "      ok = dist.parse_command_line()\n",
      "    File \"C:\\Users\\saragolu\\Anaconda3\\lib\\distutils\\dist.py\", line 483, in parse_command_line\n",
      "      args = self._parse_command_opts(parser, args)\n",
      "    File \"C:\\Users\\saragolu\\Anaconda3\\lib\\site-packages\\setuptools\\dist.py\", line 916, in _parse_command_opts\n",
      "      nargs = _Distribution._parse_command_opts(self, parser, args)\n",
      "    File \"C:\\Users\\saragolu\\Anaconda3\\lib\\distutils\\dist.py\", line 539, in _parse_command_opts\n",
      "      cmd_class = self.get_command_class(command)\n",
      "    File \"C:\\Users\\saragolu\\Anaconda3\\lib\\site-packages\\setuptools\\dist.py\", line 755, in get_command_class\n",
      "      self.cmdclass[command] = cmdclass = ep.load()\n",
      "    File \"C:\\Users\\saragolu\\Anaconda3\\lib\\site-packages\\pkg_resources\\__init__.py\", line 2450, in load\n",
      "      return self.resolve()\n",
      "    File \"C:\\Users\\saragolu\\Anaconda3\\lib\\site-packages\\pkg_resources\\__init__.py\", line 2456, in resolve\n",
      "      module = __import__(self.module_name, fromlist=['__name__'], level=0)\n",
      "    File \"C:\\Users\\saragolu\\Anaconda3\\lib\\site-packages\\wheel\\bdist_wheel.py\", line 28, in <module>\n",
      "      from .vendored.packaging import tags\n",
      "    File \"C:\\Users\\saragolu\\Anaconda3\\lib\\site-packages\\wheel\\vendored\\packaging\\tags.py\", line 17, in <module>\n",
      "      import logging\n",
      "    File \"C:\\Users\\saragolu\\AppData\\Local\\Temp\\pip-install-bj1qtjhl\\logging_81afbdc7e0e54001b53fff4a346f7524\\logging\\__init__.py\", line 618\n",
      "      raise NotImplementedError, 'emit must be implemented '\\\n",
      "                               ^\n",
      "  SyntaxError: invalid syntax\n",
      "  ----------------------------------------\n",
      "  ERROR: Failed building wheel for logging\n",
      "    ERROR: Command errored out with exit status 1:\n",
      "     command: 'C:\\Users\\saragolu\\Anaconda3\\python.exe' -u -c 'import sys, setuptools, tokenize; sys.argv[0] = '\"'\"'C:\\\\Users\\\\saragolu\\\\AppData\\\\Local\\\\Temp\\\\pip-install-bj1qtjhl\\\\logging_81afbdc7e0e54001b53fff4a346f7524\\\\setup.py'\"'\"'; __file__='\"'\"'C:\\\\Users\\\\saragolu\\\\AppData\\\\Local\\\\Temp\\\\pip-install-bj1qtjhl\\\\logging_81afbdc7e0e54001b53fff4a346f7524\\\\setup.py'\"'\"';f=getattr(tokenize, '\"'\"'open'\"'\"', open)(__file__);code=f.read().replace('\"'\"'\\r\\n'\"'\"', '\"'\"'\\n'\"'\"');f.close();exec(compile(code, __file__, '\"'\"'exec'\"'\"'))' install --record 'C:\\Users\\saragolu\\AppData\\Local\\Temp\\pip-record-a2yj_t0f\\install-record.txt' --single-version-externally-managed --compile --install-headers 'C:\\Users\\saragolu\\Anaconda3\\Include\\logging'\n",
      "         cwd: C:\\Users\\saragolu\\AppData\\Local\\Temp\\pip-install-bj1qtjhl\\logging_81afbdc7e0e54001b53fff4a346f7524\\\n",
      "    Complete output (75 lines):\n",
      "    running install\n",
      "    running build\n",
      "    running build_py\n",
      "    creating build\n",
      "    creating build\\lib\n",
      "    creating build\\lib\\logging\n",
      "    copying logging\\config.py -> build\\lib\\logging\n",
      "    copying logging\\handlers.py -> build\\lib\\logging\n",
      "    copying logging\\__init__.py -> build\\lib\\logging\n",
      "    running install_lib\n",
      "    creating C:\\Users\\saragolu\\Anaconda3\\Lib\\site-packages\\logging\n",
      "    copying build\\lib\\logging\\config.py -> C:\\Users\\saragolu\\Anaconda3\\Lib\\site-packages\\logging\n",
      "    copying build\\lib\\logging\\handlers.py -> C:\\Users\\saragolu\\Anaconda3\\Lib\\site-packages\\logging\n",
      "    copying build\\lib\\logging\\__init__.py -> C:\\Users\\saragolu\\Anaconda3\\Lib\\site-packages\\logging\n",
      "    byte-compiling C:\\Users\\saragolu\\Anaconda3\\Lib\\site-packages\\logging\\config.py to config.cpython-38.pyc\n",
      "      File \"C:\\Users\\saragolu\\Anaconda3\\Lib\\site-packages\\logging\\config.py\", line 216\n",
      "        raise NotImplementedError, \"listen() needs threading to work\"\n",
      "                                 ^\n",
      "    SyntaxError: invalid syntax\n",
      "    \n",
      "    byte-compiling C:\\Users\\saragolu\\Anaconda3\\Lib\\site-packages\\logging\\handlers.py to handlers.cpython-38.pyc\n",
      "      File \"C:\\Users\\saragolu\\Anaconda3\\Lib\\site-packages\\logging\\handlers.py\", line 757\n",
      "        print \"The Python Win32 extensions for NT (service, event \"\\\n",
      "              ^\n",
      "    SyntaxError: invalid syntax\n",
      "    \n",
      "    byte-compiling C:\\Users\\saragolu\\Anaconda3\\Lib\\site-packages\\logging\\__init__.py to __init__.cpython-38.pyc\n",
      "      File \"C:\\Users\\saragolu\\Anaconda3\\Lib\\site-packages\\logging\\__init__.py\", line 618\n",
      "        raise NotImplementedError, 'emit must be implemented '\\\n",
      "                                 ^\n",
      "    SyntaxError: invalid syntax\n",
      "    \n",
      "    running install_egg_info\n",
      "    running egg_info\n",
      "    creating logging.egg-info\n",
      "    writing logging.egg-info\\PKG-INFO\n",
      "    writing dependency_links to logging.egg-info\\dependency_links.txt\n",
      "    writing top-level names to logging.egg-info\\top_level.txt\n",
      "    writing manifest file 'logging.egg-info\\SOURCES.txt'\n",
      "    reading manifest file 'logging.egg-info\\SOURCES.txt'\n",
      "    writing manifest file 'logging.egg-info\\SOURCES.txt'\n",
      "    Copying logging.egg-info to C:\\Users\\saragolu\\Anaconda3\\Lib\\site-packages\\logging-0.4.9.6-py3.8.egg-info\n",
      "    running install_scripts\n",
      "    Traceback (most recent call last):\n",
      "      File \"<string>\", line 1, in <module>\n",
      "      File \"C:\\Users\\saragolu\\AppData\\Local\\Temp\\pip-install-bj1qtjhl\\logging_81afbdc7e0e54001b53fff4a346f7524\\setup.py\", line 3, in <module>\n",
      "        setup(name = \"logging\",\n",
      "      File \"C:\\Users\\saragolu\\Anaconda3\\lib\\distutils\\core.py\", line 148, in setup\n",
      "        dist.run_commands()\n",
      "      File \"C:\\Users\\saragolu\\Anaconda3\\lib\\distutils\\dist.py\", line 966, in run_commands\n",
      "        self.run_command(cmd)\n",
      "      File \"C:\\Users\\saragolu\\Anaconda3\\lib\\distutils\\dist.py\", line 985, in run_command\n",
      "        cmd_obj.run()\n",
      "      File \"C:\\Users\\saragolu\\Anaconda3\\lib\\site-packages\\setuptools\\command\\install.py\", line 61, in run\n",
      "        return orig.install.run(self)\n",
      "      File \"C:\\Users\\saragolu\\Anaconda3\\lib\\distutils\\command\\install.py\", line 557, in run\n",
      "        self.run_command(cmd_name)\n",
      "      File \"C:\\Users\\saragolu\\Anaconda3\\lib\\distutils\\cmd.py\", line 313, in run_command\n",
      "        self.distribution.run_command(command)\n",
      "      File \"C:\\Users\\saragolu\\Anaconda3\\lib\\distutils\\dist.py\", line 985, in run_command\n",
      "        cmd_obj.run()\n",
      "      File \"C:\\Users\\saragolu\\Anaconda3\\lib\\site-packages\\setuptools\\command\\install_scripts.py\", line 17, in run\n",
      "        import setuptools.command.easy_install as ei\n",
      "      File \"C:\\Users\\saragolu\\Anaconda3\\lib\\site-packages\\setuptools\\command\\easy_install.py\", line 52, in <module>\n",
      "        from setuptools.package_index import (\n",
      "      File \"C:\\Users\\saragolu\\Anaconda3\\lib\\site-packages\\setuptools\\package_index.py\", line 30, in <module>\n",
      "        from setuptools.wheel import Wheel\n",
      "      File \"C:\\Users\\saragolu\\Anaconda3\\lib\\site-packages\\setuptools\\wheel.py\", line 15, in <module>\n",
      "        from setuptools.extern.packaging.tags import sys_tags\n",
      "      File \"C:\\Users\\saragolu\\Anaconda3\\lib\\site-packages\\setuptools\\_vendor\\packaging\\tags.py\", line 16, in <module>\n",
      "        import logging\n",
      "      File \"C:\\Users\\saragolu\\AppData\\Local\\Temp\\pip-install-bj1qtjhl\\logging_81afbdc7e0e54001b53fff4a346f7524\\logging\\__init__.py\", line 618\n",
      "        raise NotImplementedError, 'emit must be implemented '\\\n",
      "                                 ^\n",
      "    SyntaxError: invalid syntax\n",
      "    ----------------------------------------\n",
      "ERROR: Command errored out with exit status 1: 'C:\\Users\\saragolu\\Anaconda3\\python.exe' -u -c 'import sys, setuptools, tokenize; sys.argv[0] = '\"'\"'C:\\\\Users\\\\saragolu\\\\AppData\\\\Local\\\\Temp\\\\pip-install-bj1qtjhl\\\\logging_81afbdc7e0e54001b53fff4a346f7524\\\\setup.py'\"'\"'; __file__='\"'\"'C:\\\\Users\\\\saragolu\\\\AppData\\\\Local\\\\Temp\\\\pip-install-bj1qtjhl\\\\logging_81afbdc7e0e54001b53fff4a346f7524\\\\setup.py'\"'\"';f=getattr(tokenize, '\"'\"'open'\"'\"', open)(__file__);code=f.read().replace('\"'\"'\\r\\n'\"'\"', '\"'\"'\\n'\"'\"');f.close();exec(compile(code, __file__, '\"'\"'exec'\"'\"'))' install --record 'C:\\Users\\saragolu\\AppData\\Local\\Temp\\pip-record-a2yj_t0f\\install-record.txt' --single-version-externally-managed --compile --install-headers 'C:\\Users\\saragolu\\Anaconda3\\Include\\logging' Check the logs for full command output.\n"
     ]
    }
   ],
   "source": [
    "!pip install logging"
   ]
  },
  {
   "cell_type": "code",
   "execution_count": 36,
   "id": "7df3ef76",
   "metadata": {},
   "outputs": [],
   "source": [
    "import logging"
   ]
  },
  {
   "cell_type": "code",
   "execution_count": 3,
   "id": "1c03124c",
   "metadata": {},
   "outputs": [],
   "source": [
    "import os"
   ]
  },
  {
   "cell_type": "code",
   "execution_count": 38,
   "id": "a9ab12bc",
   "metadata": {
    "collapsed": true
   },
   "outputs": [
    {
     "name": "stdout",
     "output_type": "stream",
     "text": [
      "['DirEntry', 'F_OK', 'MutableMapping', 'O_APPEND', 'O_BINARY', 'O_CREAT', 'O_EXCL', 'O_NOINHERIT', 'O_RANDOM', 'O_RDONLY', 'O_RDWR', 'O_SEQUENTIAL', 'O_SHORT_LIVED', 'O_TEMPORARY', 'O_TEXT', 'O_TRUNC', 'O_WRONLY', 'P_DETACH', 'P_NOWAIT', 'P_NOWAITO', 'P_OVERLAY', 'P_WAIT', 'PathLike', 'R_OK', 'SEEK_CUR', 'SEEK_END', 'SEEK_SET', 'TMP_MAX', 'W_OK', 'X_OK', '_AddedDllDirectory', '_Environ', '__all__', '__builtins__', '__cached__', '__doc__', '__file__', '__loader__', '__name__', '__package__', '__spec__', '_check_methods', '_execvpe', '_exists', '_exit', '_fspath', '_get_exports_list', '_putenv', '_unsetenv', '_wrap_close', 'abc', 'abort', 'access', 'add_dll_directory', 'altsep', 'chdir', 'chmod', 'close', 'closerange', 'cpu_count', 'curdir', 'defpath', 'device_encoding', 'devnull', 'dup', 'dup2', 'environ', 'error', 'execl', 'execle', 'execlp', 'execlpe', 'execv', 'execve', 'execvp', 'execvpe', 'extsep', 'fdopen', 'fsdecode', 'fsencode', 'fspath', 'fstat', 'fsync', 'ftruncate', 'get_exec_path', 'get_handle_inheritable', 'get_inheritable', 'get_terminal_size', 'getcwd', 'getcwdb', 'getenv', 'getlogin', 'getpid', 'getppid', 'isatty', 'kill', 'linesep', 'link', 'listdir', 'lseek', 'lstat', 'makedirs', 'mkdir', 'name', 'open', 'pardir', 'path', 'pathsep', 'pipe', 'popen', 'putenv', 'read', 'readlink', 'remove', 'removedirs', 'rename', 'renames', 'replace', 'rmdir', 'scandir', 'sep', 'set_handle_inheritable', 'set_inheritable', 'spawnl', 'spawnle', 'spawnv', 'spawnve', 'st', 'startfile', 'stat', 'stat_result', 'statvfs_result', 'strerror', 'supports_bytes_environ', 'supports_dir_fd', 'supports_effective_ids', 'supports_fd', 'supports_follow_symlinks', 'symlink', 'sys', 'system', 'terminal_size', 'times', 'times_result', 'truncate', 'umask', 'uname_result', 'unlink', 'urandom', 'utime', 'waitpid', 'walk', 'write']\n"
     ]
    }
   ],
   "source": [
    "print(dir(os))"
   ]
  },
  {
   "cell_type": "code",
   "execution_count": 39,
   "id": "2993af04",
   "metadata": {},
   "outputs": [],
   "source": [
    "os.mkdir(\"logging\")"
   ]
  },
  {
   "cell_type": "code",
   "execution_count": 40,
   "id": "d335856b",
   "metadata": {},
   "outputs": [
    {
     "data": {
      "text/plain": [
       "'C:\\\\Users\\\\saragolu\\\\Desktop\\\\python_intro'"
      ]
     },
     "execution_count": 40,
     "metadata": {},
     "output_type": "execute_result"
    }
   ],
   "source": [
    "os.getcwd()"
   ]
  },
  {
   "cell_type": "code",
   "execution_count": 41,
   "id": "ed4ea5ab",
   "metadata": {},
   "outputs": [],
   "source": [
    "os.chdir(os.getcwd() + '/' + 'logging')"
   ]
  },
  {
   "cell_type": "code",
   "execution_count": 42,
   "id": "df2d3dbc",
   "metadata": {},
   "outputs": [
    {
     "data": {
      "text/plain": [
       "'C:\\\\Users\\\\saragolu\\\\Desktop\\\\python_intro\\\\logging'"
      ]
     },
     "execution_count": 42,
     "metadata": {},
     "output_type": "execute_result"
    }
   ],
   "source": [
    "os.getcwd()"
   ]
  },
  {
   "cell_type": "code",
   "execution_count": 43,
   "id": "1a5711f9",
   "metadata": {
    "collapsed": true
   },
   "outputs": [
    {
     "name": "stdout",
     "output_type": "stream",
     "text": [
      "['BASIC_FORMAT', 'BufferingFormatter', 'CRITICAL', 'DEBUG', 'ERROR', 'FATAL', 'FileHandler', 'Filter', 'Filterer', 'Formatter', 'Handler', 'INFO', 'LogRecord', 'Logger', 'LoggerAdapter', 'Manager', 'NOTSET', 'NullHandler', 'PercentStyle', 'PlaceHolder', 'RootLogger', 'StrFormatStyle', 'StreamHandler', 'StringTemplateStyle', 'Template', 'WARN', 'WARNING', '_STYLES', '_StderrHandler', '__all__', '__author__', '__builtins__', '__cached__', '__date__', '__doc__', '__file__', '__loader__', '__name__', '__package__', '__path__', '__spec__', '__status__', '__version__', '_acquireLock', '_addHandlerRef', '_checkLevel', '_defaultFormatter', '_defaultLastResort', '_handlerList', '_handlers', '_levelToName', '_lock', '_logRecordFactory', '_loggerClass', '_nameToLevel', '_register_at_fork_reinit_lock', '_releaseLock', '_removeHandlerRef', '_showwarning', '_srcfile', '_startTime', '_str_formatter', '_warnings_showwarning', 'addLevelName', 'atexit', 'basicConfig', 'captureWarnings', 'collections', 'critical', 'currentframe', 'debug', 'disable', 'error', 'exception', 'fatal', 'getLevelName', 'getLogRecordFactory', 'getLogger', 'getLoggerClass', 'handlers', 'info', 'io', 'lastResort', 'log', 'logMultiprocessing', 'logProcesses', 'logThreads', 'makeLogRecord', 'os', 'raiseExceptions', 're', 'root', 'setLogRecordFactory', 'setLoggerClass', 'shutdown', 'sys', 'threading', 'time', 'traceback', 'warn', 'warning', 'warnings', 'weakref']\n"
     ]
    }
   ],
   "source": [
    "print(dir(logging))"
   ]
  },
  {
   "cell_type": "code",
   "execution_count": 2,
   "id": "5f2421d7",
   "metadata": {},
   "outputs": [],
   "source": [
    "import logging as lg"
   ]
  },
  {
   "cell_type": "code",
   "execution_count": 47,
   "id": "989e5673",
   "metadata": {},
   "outputs": [],
   "source": [
    "lg.basicConfig(filename='C:\\\\Users\\\\saragolu\\\\Desktop\\\\python_intro\\\\logging\\\\test.log',level=lg.ERROR,format='%(asctime)s %(message)s')"
   ]
  },
  {
   "cell_type": "code",
   "execution_count": 48,
   "id": "94eb94b4",
   "metadata": {},
   "outputs": [],
   "source": [
    "lg.error=('this is msg for error')"
   ]
  },
  {
   "cell_type": "code",
   "execution_count": 6,
   "id": "c567d56b",
   "metadata": {},
   "outputs": [],
   "source": [
    "lg.shutdown()"
   ]
  },
  {
   "cell_type": "code",
   "execution_count": 4,
   "id": "4157e9b0",
   "metadata": {},
   "outputs": [],
   "source": [
    "lg.basicConfig(filename='C:\\\\Users\\\\saragolu\\\\Desktop\\\\python_intro\\\\logging\\\\test2.log',level=lg.INFO)"
   ]
  },
  {
   "cell_type": "code",
   "execution_count": 5,
   "id": "0f19583c",
   "metadata": {},
   "outputs": [],
   "source": [
    "lg.debug(\"this is for debugging\")\n",
    "lg.critical(\"THIS is my critical log\")\n",
    "lg.error(\"this is my error log\")\n",
    "lg.exception(\"this is my exception log\")\n",
    "lg.warning(\"this is my warning log\")\n",
    "lg.info(\"this is my info log\")"
   ]
  },
  {
   "cell_type": "code",
   "execution_count": 7,
   "id": "01400d89",
   "metadata": {},
   "outputs": [],
   "source": [
    "import threading"
   ]
  },
  {
   "cell_type": "code",
   "execution_count": 8,
   "id": "3045e4f1",
   "metadata": {
    "collapsed": true
   },
   "outputs": [
    {
     "data": {
      "text/plain": [
       "['Barrier',\n",
       " 'BoundedSemaphore',\n",
       " 'BrokenBarrierError',\n",
       " 'Condition',\n",
       " 'Event',\n",
       " 'ExceptHookArgs',\n",
       " 'Lock',\n",
       " 'RLock',\n",
       " 'Semaphore',\n",
       " 'TIMEOUT_MAX',\n",
       " 'Thread',\n",
       " 'ThreadError',\n",
       " 'Timer',\n",
       " 'WeakSet',\n",
       " '_CRLock',\n",
       " '_DummyThread',\n",
       " '_HAVE_THREAD_NATIVE_ID',\n",
       " '_MainThread',\n",
       " '_PyRLock',\n",
       " '_RLock',\n",
       " '__all__',\n",
       " '__builtins__',\n",
       " '__cached__',\n",
       " '__doc__',\n",
       " '__file__',\n",
       " '__loader__',\n",
       " '__name__',\n",
       " '__package__',\n",
       " '__spec__',\n",
       " '_active',\n",
       " '_active_limbo_lock',\n",
       " '_after_fork',\n",
       " '_allocate_lock',\n",
       " '_count',\n",
       " '_counter',\n",
       " '_dangling',\n",
       " '_deque',\n",
       " '_enumerate',\n",
       " '_islice',\n",
       " '_limbo',\n",
       " '_main_thread',\n",
       " '_make_invoke_excepthook',\n",
       " '_newname',\n",
       " '_os',\n",
       " '_profile_hook',\n",
       " '_set_sentinel',\n",
       " '_shutdown',\n",
       " '_shutdown_locks',\n",
       " '_shutdown_locks_lock',\n",
       " '_start_new_thread',\n",
       " '_sys',\n",
       " '_time',\n",
       " '_trace_hook',\n",
       " 'activeCount',\n",
       " 'active_count',\n",
       " 'currentThread',\n",
       " 'current_thread',\n",
       " 'enumerate',\n",
       " 'excepthook',\n",
       " 'get_ident',\n",
       " 'get_native_id',\n",
       " 'local',\n",
       " 'main_thread',\n",
       " 'setprofile',\n",
       " 'settrace',\n",
       " 'stack_size']"
      ]
     },
     "execution_count": 8,
     "metadata": {},
     "output_type": "execute_result"
    }
   ],
   "source": [
    "dir(threading)"
   ]
  },
  {
   "cell_type": "code",
   "execution_count": 10,
   "id": "56d7fea8",
   "metadata": {},
   "outputs": [
    {
     "name": "stdout",
     "output_type": "stream",
     "text": [
      "square is: 12.0\n",
      "cube is: 729\n",
      "thread completed.output\n"
     ]
    }
   ],
   "source": [
    "def ps(num):\n",
    "    print(\"square is: {}\".format(num**0.5))\n",
    "def cb(num):\n",
    "    print(\"cube is: {}\".format(num*num*num))\n",
    "if __name__==\"__main__\":\n",
    "    t1=threading.Thread(target=ps,args=(144,))\n",
    "    t2=threading.Thread(target=cb,args=(9,))  \n",
    "    t1.start()\n",
    "    t2.start()\n",
    "    t1.join()\n",
    "    t2.join()\n",
    "    print(\"thread completed.output\")"
   ]
  },
  {
   "cell_type": "code",
   "execution_count": 15,
   "id": "7fc7cb1f",
   "metadata": {},
   "outputs": [
    {
     "ename": "IndentationError",
     "evalue": "expected an indented block (<ipython-input-15-8201bf318122>, line 10)",
     "output_type": "error",
     "traceback": [
      "\u001b[1;36m  File \u001b[1;32m\"<ipython-input-15-8201bf318122>\"\u001b[1;36m, line \u001b[1;32m10\u001b[0m\n\u001b[1;33m    for _ in range(1000000):\u001b[0m\n\u001b[1;37m    ^\u001b[0m\n\u001b[1;31mIndentationError\u001b[0m\u001b[1;31m:\u001b[0m expected an indented block\n"
     ]
    }
   ],
   "source": [
    "import threading\n",
    "x=0\n",
    "def inc():\n",
    "    global x\n",
    "    x+=1\n",
    "def TT():\n",
    "    for _ in range(1000000):\n",
    "        def thread_task(lock):\n",
    "    \n",
    "    for _ in range(1000000):\n",
    "        lock.acquire()\n",
    "        increment()\n",
    "        lock.release()\n",
    "def mt():\n",
    "    global x\n",
    "    x=0\n",
    "    lock = threading.Lock()\n",
    "    t1=threading.Thread(target = TT)\n",
    "    t2=threading.Thread(target = TT)\n",
    "    t1.start()\n",
    "    t2.start()\n",
    "    t1.join()\n",
    "    t2.join()\n",
    "if __name__ == \"__main__\":\n",
    "    for i in range(10):\n",
    "        mt()\n",
    "        print(\"iteration {0}: x ={1}\".format(i,x))"
   ]
  },
  {
   "cell_type": "code",
   "execution_count": 17,
   "id": "455fe882",
   "metadata": {},
   "outputs": [
    {
     "name": "stdout",
     "output_type": "stream",
     "text": [
      "Iteration 0: x = 2000000\n",
      "Iteration 1: x = 2000000\n",
      "Iteration 2: x = 2000000\n",
      "Iteration 3: x = 2000000\n",
      "Iteration 4: x = 2000000\n",
      "Iteration 5: x = 2000000\n",
      "Iteration 6: x = 2000000\n",
      "Iteration 7: x = 2000000\n",
      "Iteration 8: x = 2000000\n",
      "Iteration 9: x = 2000000\n",
      "Iteration 10: x = 2000000\n",
      "Iteration 11: x = 2000000\n",
      "Iteration 12: x = 2000000\n",
      "Iteration 13: x = 2000000\n",
      "Iteration 14: x = 2000000\n",
      "Iteration 15: x = 2000000\n",
      "Iteration 16: x = 2000000\n",
      "Iteration 17: x = 2000000\n",
      "Iteration 18: x = 2000000\n",
      "Iteration 19: x = 2000000\n"
     ]
    }
   ],
   "source": [
    "import threading\n",
    "\n",
    " \n",
    "\n",
    "x = 0\n",
    "def increment():\n",
    "    global x \n",
    "    x += 1\n",
    "\n",
    " \n",
    "\n",
    "def thread_task(lock):\n",
    "    \n",
    "    for _ in range(1000000):\n",
    "        lock.acquire()\n",
    "        increment()\n",
    "        lock.release()\n",
    "\n",
    " \n",
    "\n",
    "def main_task():\n",
    "    \n",
    "    global x\n",
    "    x  = 0\n",
    "    # create a lock here:\n",
    "    lock = threading.Lock()\n",
    "    # threads.....\n",
    "    t1 = threading.Thread(target = thread_task, args= (lock,)) \n",
    "    t2 = threading.Thread(target = thread_task, args= (lock,))\n",
    "    \n",
    "    t1.start()\n",
    "    t2.start()\n",
    "    \n",
    "    # wait until thread finish their job\n",
    "    \n",
    "    t1.join()\n",
    "    t2.join()\n",
    "    \n",
    "if __name__ == \"__main__\":\n",
    "    for i in range(20):\n",
    "        main_task()\n",
    "        print(\"Iteration {0}: x = {1}\".format(i,x))"
   ]
  },
  {
   "cell_type": "code",
   "execution_count": null,
   "id": "b68fc9a5",
   "metadata": {},
   "outputs": [],
   "source": []
  }
 ],
 "metadata": {
  "kernelspec": {
   "display_name": "Python 3",
   "language": "python",
   "name": "python3"
  },
  "language_info": {
   "codemirror_mode": {
    "name": "ipython",
    "version": 3
   },
   "file_extension": ".py",
   "mimetype": "text/x-python",
   "name": "python",
   "nbconvert_exporter": "python",
   "pygments_lexer": "ipython3",
   "version": "3.8.8"
  }
 },
 "nbformat": 4,
 "nbformat_minor": 5
}
